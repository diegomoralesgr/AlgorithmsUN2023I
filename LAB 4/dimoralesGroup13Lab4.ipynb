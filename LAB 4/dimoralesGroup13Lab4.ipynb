{
  "cells": [
    {
      "cell_type": "markdown",
      "metadata": {
        "id": "N1ok_-56OjB1"
      },
      "source": [
        "# I Solving the Sum of Two Digits Programming Challenge"
      ]
    },
    {
      "cell_type": "markdown",
      "metadata": {
        "id": "MMY7kmDSO0KM"
      },
      "source": [
        "## C++"
      ]
    },
    {
      "cell_type": "code",
      "execution_count": 1,
      "metadata": {
        "colab": {
          "base_uri": "https://localhost:8080/"
        },
        "id": "2pGGf9BkPNIk",
        "outputId": "a2353aa2-3490-4f6e-9890-18354bdb078b"
      },
      "outputs": [
        {
          "name": "stdout",
          "output_type": "stream",
          "text": [
            "Writing APlusB.cpp\n"
          ]
        }
      ],
      "source": [
        "%%writefile APlusB.cpp\n",
        "#include <iostream>\n",
        "\n",
        "int sum_of_two_digits(int first_digit, int second_digit) {\n",
        "    return first_digit + second_digit;\n",
        "}\n",
        "\n",
        "int main() {\n",
        "    int a = 0;\n",
        "    int b = 0;\n",
        "    std::cin >> a;\n",
        "    std::cin >> b;\n",
        "    std::cout << sum_of_two_digits(a, b);\n",
        "    return 0;\n",
        "}"
      ]
    },
    {
      "cell_type": "code",
      "execution_count": 3,
      "metadata": {
        "colab": {
          "base_uri": "https://localhost:8080/"
        },
        "id": "0G3ZKOYAPXSU",
        "outputId": "168606e3-daa1-4024-b361-30fe1e01b034"
      },
      "outputs": [
        {
          "name": "stdout",
          "output_type": "stream",
          "text": [
            "^C\n"
          ]
        }
      ],
      "source": [
        "!g++ APlusB.cpp -o APlusB\n",
        "!./APlusB"
      ]
    },
    {
      "cell_type": "markdown",
      "metadata": {
        "id": "iNkG2HqfTl9c"
      },
      "source": [
        "### Test input output files"
      ]
    },
    {
      "cell_type": "code",
      "execution_count": 4,
      "metadata": {
        "colab": {
          "base_uri": "https://localhost:8080/"
        },
        "id": "aTzU2efzMxly",
        "outputId": "aa254a61-1152-42b5-a11e-a3981f96d972"
      },
      "outputs": [
        {
          "name": "stdout",
          "output_type": "stream",
          "text": [
            "Writing input1.txt\n"
          ]
        }
      ],
      "source": [
        "%%writefile input1.txt\n",
        "4 8"
      ]
    },
    {
      "cell_type": "markdown",
      "metadata": {
        "id": "pdkfsvs-T0Wr"
      },
      "source": []
    },
    {
      "cell_type": "code",
      "execution_count": 5,
      "metadata": {
        "colab": {
          "base_uri": "https://localhost:8080/"
        },
        "id": "zBJ0Gc0NQRet",
        "outputId": "67219fb3-7e55-40af-8ee4-deada7384695"
      },
      "outputs": [
        {
          "name": "stdout",
          "output_type": "stream",
          "text": [
            "Writing output1.txt\n"
          ]
        }
      ],
      "source": [
        "%%writefile output1.txt\n",
        "12"
      ]
    },
    {
      "cell_type": "code",
      "execution_count": 6,
      "metadata": {
        "colab": {
          "base_uri": "https://localhost:8080/"
        },
        "id": "IjEcIx63PJAN",
        "outputId": "3240ee72-df71-4592-8cb0-57fc8d1a7453"
      },
      "outputs": [
        {
          "name": "stdout",
          "output_type": "stream",
          "text": [
            "Writing input2.txt\n"
          ]
        }
      ],
      "source": [
        "%%writefile input2.txt\n",
        "-5 9"
      ]
    },
    {
      "cell_type": "code",
      "execution_count": 7,
      "metadata": {
        "colab": {
          "base_uri": "https://localhost:8080/"
        },
        "id": "Up9gOrxURTmd",
        "outputId": "856b79e0-46b1-4c93-d4fa-eb0f3db7847d"
      },
      "outputs": [
        {
          "name": "stdout",
          "output_type": "stream",
          "text": [
            "Writing output2.txt\n"
          ]
        }
      ],
      "source": [
        "%%writefile output2.txt\n",
        "4"
      ]
    },
    {
      "cell_type": "code",
      "execution_count": null,
      "metadata": {
        "colab": {
          "base_uri": "https://localhost:8080/"
        },
        "id": "PST6G-s-Pwgc",
        "outputId": "1ffae13c-98c4-47d0-b3ef-317e4a855ec0"
      },
      "outputs": [
        {
          "name": "stdout",
          "output_type": "stream",
          "text": [
            "12"
          ]
        }
      ],
      "source": [
        "!./APlusB < input1.txt"
      ]
    },
    {
      "cell_type": "code",
      "execution_count": null,
      "metadata": {
        "colab": {
          "base_uri": "https://localhost:8080/"
        },
        "id": "cKxZOjSlRfIN",
        "outputId": "a132b940-176c-43fb-dc88-9d1b7a8b2607"
      },
      "outputs": [
        {
          "name": "stdout",
          "output_type": "stream",
          "text": [
            "4"
          ]
        }
      ],
      "source": [
        "!./APlusB < input2.txt"
      ]
    },
    {
      "cell_type": "markdown",
      "metadata": {
        "id": "Qw2TQWCCUwqk"
      },
      "source": [
        "### Comparing files with grep\n",
        "\n",
        "https://askubuntu.com/questions/546796/comparing-two-text-files"
      ]
    },
    {
      "cell_type": "code",
      "execution_count": 8,
      "metadata": {
        "id": "WVIaAmMKU4QM"
      },
      "outputs": [],
      "source": [
        "!grep -xvFf output1.txt output1.txt "
      ]
    },
    {
      "cell_type": "code",
      "execution_count": 10,
      "metadata": {
        "colab": {
          "base_uri": "https://localhost:8080/"
        },
        "id": "MQU8gPPjQuYO",
        "outputId": "aa7bd22c-a990-4c3e-95a3-245a263f440f"
      },
      "outputs": [
        {
          "name": "stdout",
          "output_type": "stream",
          "text": [
            "4\n"
          ]
        }
      ],
      "source": [
        "!grep -xvFf output1.txt output2.txt "
      ]
    },
    {
      "cell_type": "code",
      "execution_count": 11,
      "metadata": {
        "colab": {
          "base_uri": "https://localhost:8080/"
        },
        "id": "jYL9OuYBTD_l",
        "outputId": "971cb7af-db13-4a14-cf6d-a2d00149d320"
      },
      "outputs": [
        {
          "name": "stdout",
          "output_type": "stream",
          "text": [
            "12\n"
          ]
        }
      ],
      "source": [
        "!grep -xvFf output2.txt output1.txt "
      ]
    },
    {
      "cell_type": "code",
      "execution_count": 12,
      "metadata": {
        "id": "Jlja0Xm4TX9M"
      },
      "outputs": [],
      "source": [
        "!./APlusB < input1.txt> ctest1.txt\n",
        "!grep -xvFf output1.txt ctest1.txt"
      ]
    },
    {
      "cell_type": "code",
      "execution_count": 13,
      "metadata": {
        "id": "g9OIUZA_QLCQ"
      },
      "outputs": [],
      "source": [
        "!./APlusB < input2.txt > ctest2.txt\n",
        "!grep -xvFf output2.txt ctest2.txt"
      ]
    },
    {
      "cell_type": "markdown",
      "metadata": {
        "id": "3BgOaDjUVJk6"
      },
      "source": [
        "## Python"
      ]
    },
    {
      "cell_type": "code",
      "execution_count": 14,
      "metadata": {
        "colab": {
          "base_uri": "https://localhost:8080/"
        },
        "id": "DBvl-T0CTN_8",
        "outputId": "a6fb70ad-9db0-452c-bec0-8d5f62be2189"
      },
      "outputs": [
        {
          "name": "stdout",
          "output_type": "stream",
          "text": [
            "Writing sum.py\n"
          ]
        }
      ],
      "source": [
        "%%writefile sum.py\n",
        "# python3\n",
        "\n",
        "def sum_of_two_digits(first_digit, second_digit):\n",
        "    return first_digit + second_digit\n",
        "\n",
        "if __name__ == '__main__':\n",
        "    a, b = map(int, input().split())\n",
        "    print(sum_of_two_digits(a, b))"
      ]
    },
    {
      "cell_type": "code",
      "execution_count": 15,
      "metadata": {
        "colab": {
          "base_uri": "https://localhost:8080/"
        },
        "id": "QKoKM11_WGyF",
        "outputId": "e3867fb5-7d40-4ef1-ff1b-66c3135f67cb"
      },
      "outputs": [
        {
          "name": "stdout",
          "output_type": "stream",
          "text": [
            "^C\n",
            "Traceback (most recent call last):\n",
            "  File \"sum.py\", line 7, in <module>\n",
            "    a, b = map(int, input().split())\n",
            "KeyboardInterrupt\n"
          ]
        }
      ],
      "source": [
        "!python sum.py"
      ]
    },
    {
      "cell_type": "code",
      "execution_count": 16,
      "metadata": {
        "id": "cocFbPRTWrqt"
      },
      "outputs": [],
      "source": [
        "!python sum.py  < input1.txt> ptest1.txt\n",
        "!grep -xvFf output1.txt ptest1.txt"
      ]
    },
    {
      "cell_type": "code",
      "execution_count": 17,
      "metadata": {
        "id": "MorKTa-XXASN"
      },
      "outputs": [],
      "source": [
        "!python sum.py  < input2.txt> ptest2.txt\n",
        "!grep -xvFf output2.txt ptest2.txt"
      ]
    },
    {
      "cell_type": "markdown",
      "metadata": {
        "id": "uvP-mOubW_5F"
      },
      "source": [
        "# II Solving The Maximum Pairwise Product Programming Challenge in C++"
      ]
    },
    {
      "cell_type": "markdown",
      "metadata": {
        "id": "C12yoFR6Xonl"
      },
      "source": [
        "## C++"
      ]
    },
    {
      "cell_type": "code",
      "execution_count": 18,
      "metadata": {
        "colab": {
          "base_uri": "https://localhost:8080/"
        },
        "id": "YL4qJX3tXxdd",
        "outputId": "76f550a6-b694-4086-951e-5aa1b3ac3845"
      },
      "outputs": [
        {
          "name": "stdout",
          "output_type": "stream",
          "text": [
            "Writing max_pairwise_product.cpp\n"
          ]
        }
      ],
      "source": [
        "%%writefile max_pairwise_product.cpp\n",
        "#include <iostream>\n",
        "#include <vector>\n",
        "#include <algorithm>\n",
        "\n",
        "int MaxPairwiseProduct(const std::vector<int>& numbers) {\n",
        "    int max_product = 0;\n",
        "    int n = numbers.size();\n",
        "\n",
        "    for (int first = 0; first < n; ++first) {\n",
        "        for (int second = first + 1; second < n; ++second) {\n",
        "            max_product = std::max(max_product,\n",
        "                numbers[first] * numbers[second]);\n",
        "        }\n",
        "    }\n",
        "\n",
        "    return max_product;\n",
        "}\n",
        "\n",
        "int main() {\n",
        "    int n;\n",
        "    std::cin >> n;\n",
        "    std::vector<int> numbers(n);\n",
        "    for (int i = 0; i < n; ++i) {\n",
        "        std::cin >> numbers[i];\n",
        "    }\n",
        "\n",
        "    std::cout << MaxPairwiseProduct(numbers) << \"\\n\";\n",
        "    return 0;\n",
        "}\n"
      ]
    },
    {
      "cell_type": "code",
      "execution_count": 19,
      "metadata": {
        "colab": {
          "base_uri": "https://localhost:8080/"
        },
        "id": "KGxaEjvWX__O",
        "outputId": "3f856225-4011-46bf-dab1-05a7c27b2580"
      },
      "outputs": [
        {
          "name": "stdout",
          "output_type": "stream",
          "text": [
            "^C\n"
          ]
        }
      ],
      "source": [
        "!g++ max_pairwise_product.cpp -o max_pairwise_product\n",
        "!./max_pairwise_product"
      ]
    },
    {
      "cell_type": "markdown",
      "metadata": {
        "id": "e7KhxHGNS3i0"
      },
      "source": [
        "### Test 1: Small numbers"
      ]
    },
    {
      "cell_type": "code",
      "execution_count": 20,
      "metadata": {
        "colab": {
          "base_uri": "https://localhost:8080/"
        },
        "id": "e1mmTzBgShT-",
        "outputId": "43076bfb-d95a-4ff9-9beb-a7d02ac43c4d"
      },
      "outputs": [
        {
          "name": "stdout",
          "output_type": "stream",
          "text": [
            "Overwriting input1.txt\n"
          ]
        }
      ],
      "source": [
        "%%writefile input1.txt\n",
        "10\n",
        "1 2 3 4 5 6 7 8 9 10"
      ]
    },
    {
      "cell_type": "code",
      "execution_count": 21,
      "metadata": {
        "colab": {
          "base_uri": "https://localhost:8080/"
        },
        "id": "vy_uI0x7TCId",
        "outputId": "2783453a-1f2a-4243-f377-e8eee0e53ff5"
      },
      "outputs": [
        {
          "name": "stdout",
          "output_type": "stream",
          "text": [
            "90\n"
          ]
        }
      ],
      "source": [
        "!./max_pairwise_product < input1.txt"
      ]
    },
    {
      "cell_type": "markdown",
      "metadata": {
        "id": "IeZ3kTjpYmR9"
      },
      "source": [
        "### Test 2: largest input numbers 200000 200000 in the input"
      ]
    },
    {
      "cell_type": "code",
      "execution_count": 22,
      "metadata": {
        "colab": {
          "base_uri": "https://localhost:8080/"
        },
        "id": "LQNlZqaqYt7U",
        "outputId": "e82f56cd-f988-4ca4-92c8-56b33190da8a"
      },
      "outputs": [
        {
          "name": "stdout",
          "output_type": "stream",
          "text": [
            "Overwriting input2.txt\n"
          ]
        }
      ],
      "source": [
        "%%writefile input2.txt\n",
        "6\n",
        "1 3 200000 9 200000 23"
      ]
    },
    {
      "cell_type": "code",
      "execution_count": 23,
      "metadata": {
        "colab": {
          "base_uri": "https://localhost:8080/"
        },
        "id": "2Wad2VZUZDxR",
        "outputId": "53715137-ffce-4884-c4ef-98932df16b39"
      },
      "outputs": [
        {
          "name": "stdout",
          "output_type": "stream",
          "text": [
            "1345294336\n"
          ]
        }
      ],
      "source": [
        "!./max_pairwise_product < input2.txt"
      ]
    },
    {
      "cell_type": "markdown",
      "metadata": {
        "id": "H2SC0Qt5HCzz"
      },
      "source": [
        "Changing the variables to long long"
      ]
    },
    {
      "cell_type": "code",
      "execution_count": 24,
      "metadata": {
        "colab": {
          "base_uri": "https://localhost:8080/"
        },
        "id": "MPcmsxiQZSfE",
        "outputId": "1f8fd4f4-fe94-4e27-9801-6780c888c7aa"
      },
      "outputs": [
        {
          "name": "stdout",
          "output_type": "stream",
          "text": [
            "Writing max_pairwise_product_long.cpp\n"
          ]
        }
      ],
      "source": [
        "%%writefile max_pairwise_product_long.cpp\n",
        "#include <iostream>\n",
        "#include <vector>\n",
        "#include <algorithm>\n",
        "\n",
        "long long MaxPairwiseProduct(const std::vector<int>& numbers) {\n",
        "    long long max_product = 0LL;\n",
        "\t  long long aux_product = 0LL;\n",
        "    int n = numbers.size();\n",
        "\n",
        "    for (int first = 0; first < n; ++first) {\n",
        "        for (int second = first + 1; second < n; ++second) {\n",
        "\t\t\t       aux_product =  (long long) numbers[first] * numbers[second];\n",
        "            if ( max_product < aux_product)  {\n",
        "\t\t\t\t        max_product = aux_product;\n",
        "             }\n",
        "        }\n",
        "    }\n",
        "\n",
        "    return max_product;\n",
        "}\n",
        "\n",
        "int main() {\n",
        "    int n;\n",
        "    std::cin >> n;\n",
        "    std::vector<int> numbers(n);\n",
        "    for (int i = 0; i < n; ++i) {\n",
        "        std::cin >> numbers[i];\n",
        "    }\n",
        "\n",
        "    std::cout << MaxPairwiseProduct(numbers) << \"\\n\";\n",
        "    return 0;\n",
        "}\n"
      ]
    },
    {
      "cell_type": "code",
      "execution_count": 25,
      "metadata": {
        "colab": {
          "base_uri": "https://localhost:8080/"
        },
        "id": "I5pCeOG1Zm7s",
        "outputId": "857e0e16-cbac-4276-b003-b1f485f21f1f"
      },
      "outputs": [
        {
          "name": "stdout",
          "output_type": "stream",
          "text": [
            "90\n",
            "40000000000\n"
          ]
        }
      ],
      "source": [
        "!g++ max_pairwise_product_long.cpp -o max_pairwise_product_long\n",
        "!./max_pairwise_product_long < input1.txt\n",
        "!./max_pairwise_product_long < input2.txt"
      ]
    },
    {
      "cell_type": "markdown",
      "metadata": {
        "id": "XPVHkHxH6_7s"
      },
      "source": [
        "### Test 3  stress tests 20  times  random n in [2, 20] "
      ]
    },
    {
      "cell_type": "code",
      "execution_count": null,
      "metadata": {
        "id": "PwqpBmYr69fu"
      },
      "outputs": [],
      "source": []
    },
    {
      "cell_type": "markdown",
      "metadata": {
        "id": "9z9yr5QkeyJF"
      },
      "source": [
        "### Test 4  time test  measure the execution time running with the the largest worst case file (200000 increasing numbers, 200000 and 200000 the end) "
      ]
    },
    {
      "cell_type": "code",
      "execution_count": 28,
      "metadata": {
        "colab": {
          "base_uri": "https://localhost:8080/"
        },
        "id": "oLiMjbAIfPlX",
        "outputId": "a7589dc3-93ba-410d-cb72-cd05a590a6f3"
      },
      "outputs": [
        {
          "name": "stdout",
          "output_type": "stream",
          "text": [
            "Overwriting Test2Write.cpp\n"
          ]
        }
      ],
      "source": [
        "%%writefile Test2Write.cpp\n",
        "\n",
        "#include <iostream>\n",
        "#include <fstream>\n",
        "#include <cstdlib>\n",
        "\n",
        "using namespace std;\n",
        "\n",
        "int main() {\n",
        "  // Create and open a text file\n",
        "  ofstream MyFile(\"input3.txt\");\n",
        "\n",
        " MyFile << 200000 <<\"\\n\";  // n \n",
        " for (int i=1; i < 200001; i++){\n",
        "     MyFile << i <<\" \";\n",
        " }\n",
        "  \n",
        "  // Close the file\n",
        "  MyFile.close();\n",
        "}"
      ]
    },
    {
      "cell_type": "code",
      "execution_count": 29,
      "metadata": {
        "id": "EH25TkOkZfD9"
      },
      "outputs": [],
      "source": [
        "!g++ Test2Write.cpp -o Test2Write\n",
        "!./Test2Write"
      ]
    },
    {
      "cell_type": "markdown",
      "metadata": {
        "id": "JB6f03qO-lj9"
      },
      "source": [
        "Measure time\n",
        "\n",
        "https://askubuntu.com/questions/53444/how-can-i-measure-the-execution-time-of-a-terminal-process"
      ]
    },
    {
      "cell_type": "code",
      "execution_count": 30,
      "metadata": {
        "colab": {
          "base_uri": "https://localhost:8080/"
        },
        "id": "6p2QLEr576zk",
        "outputId": "e2a4a6aa-3c0c-4d1d-8405-1562c263baf4"
      },
      "outputs": [
        {
          "name": "stdout",
          "output_type": "stream",
          "text": [
            "39999800000\n",
            "./max_pairwise_product_long < input3.txt  81.88s user 0.23s system 99% cpu 1:22.55 total\n"
          ]
        }
      ],
      "source": [
        "!g++ max_pairwise_product_long.cpp -o max_pairwise_product_long\n",
        "!time ./max_pairwise_product_long < input3.txt"
      ]
    },
    {
      "cell_type": "markdown",
      "metadata": {
        "id": "AmZeB2wYjxy5"
      },
      "source": [
        "##### Calculate  the number of instructions executed by the algorithm as a function of n, add in each line a comment with the number of instructions that are executed in that line \n",
        "\n",
        "```cpp\n",
        " int main() {                         //N inst exec by line executed  \n",
        "   \n",
        "    int n;                            //1                      \n",
        "    std::cin >> n;                    //1\n",
        "                                              \n",
        "    std::vector<int> numbers(n);      //n    init vector\n",
        "    .\n",
        "    .\n",
        " }\n",
        "\n",
        "```"
      ]
    },
    {
      "cell_type": "code",
      "execution_count": 31,
      "metadata": {
        "colab": {
          "base_uri": "https://localhost:8080/"
        },
        "id": "djGX3FL13g9b",
        "outputId": "270176eb-1660-419e-de67-2c8f8c3c7f74"
      },
      "outputs": [
        {
          "name": "stdout",
          "output_type": "stream",
          "text": [
            "Writing test_init_vectors.cpp\n"
          ]
        }
      ],
      "source": [
        "%%writefile test_init_vectors.cpp\n",
        "#include <iostream>\n",
        "#include <vector>\n",
        "#include <algorithm>\n",
        "int main() {                                                               \n",
        "    int n = 10;                                                                                                                            //1\n",
        "    std::vector<int> numbers(n);                                            \n",
        "    for (int i = 0; i < n; ++i) {                                           \n",
        "        std::cout << numbers[i];                                             \n",
        "    }\n",
        "\n",
        "    std::cout << \"\\n\";                       \n",
        "    return 0;                                                              \n",
        "}  "
      ]
    },
    {
      "cell_type": "code",
      "execution_count": 32,
      "metadata": {
        "colab": {
          "base_uri": "https://localhost:8080/"
        },
        "id": "44gZcuE237-1",
        "outputId": "7f5f9c2a-bed0-4223-ee39-3290f70db610"
      },
      "outputs": [
        {
          "name": "stdout",
          "output_type": "stream",
          "text": [
            "0000000000\n"
          ]
        }
      ],
      "source": [
        "!g++ test_init_vectors.cpp -o test_init_vectors\n",
        "!./test_init_vectors"
      ]
    },
    {
      "cell_type": "code",
      "execution_count": 33,
      "metadata": {
        "colab": {
          "base_uri": "https://localhost:8080/"
        },
        "id": "uG6Mv-Pwlkii",
        "outputId": "8b4b2a48-2fc3-4feb-81ab-088e183a49f5"
      },
      "outputs": [
        {
          "name": "stdout",
          "output_type": "stream",
          "text": [
            "Overwriting max_pairwise_product_long.cpp\n"
          ]
        }
      ],
      "source": [
        "%%writefile max_pairwise_product_long.cpp\n",
        "#include <iostream>\n",
        "#include <vector>\n",
        "#include <algorithm>\n",
        "\n",
        "long long MaxPairwiseProduct(const std::vector<int>& numbers) {              //N inst exec by line executed \n",
        "    long long max_product = 0LL;                                             //1                                          \n",
        "\t  long long aux_product = 0LL;                                             //1 \n",
        "    int n = numbers.size();                                                  //1 \n",
        "                                                                             \n",
        "    for (int first = 0; first < n; ++first) {                                //1+2n  \n",
        "        for (int second = first + 1; second < n; ++second) {                 //n + (n-1)n \n",
        "\t\t\t       aux_product =  (long long) numbers[first] * numbers[second];    //(n-1)n/2 \n",
        "            if (max_product < aux_product)  {                                //(n-1)n/2 \n",
        "\t\t\t\t        max_product = aux_product;                                   //[0, (n-1)n/2] \n",
        "             }\n",
        "        }\n",
        "    }\n",
        "                                                                             // -------------- \n",
        "    return max_product;                                                      // 4 + 3n + [2(n-1)n, 2.5 (n-1)n] \n",
        "}\n",
        "\n",
        "int main() {                                              //N inst exec by line executed \n",
        "    int n;                                                //1  \n",
        "    std::cin >> n;                                        //1\n",
        "    std::vector<int> numbers(n);                          //n\n",
        "    for (int i = 0; i < n; ++i) {                         //1 + 2n\n",
        "        std::cin >> numbers[i];                           //n\n",
        "    }\n",
        "\n",
        "    std::cout << MaxPairwiseProduct(numbers) << \"\\n\";     //1 + 1  + 4 + 3n + [2(n-1)n, 2.5 (n-1)n]\n",
        "    return 0;                                             // -------------- \n",
        "}                                                         // 9 + 7n + [2(n-1)n, 2.5 (n-1)n]\n"
      ]
    },
    {
      "cell_type": "markdown",
      "metadata": {
        "id": "0vTsUg8OwcHs"
      },
      "source": [
        "Count executed intructions in code and verify with inputs 1, 2 and 3"
      ]
    },
    {
      "cell_type": "code",
      "execution_count": 34,
      "metadata": {
        "colab": {
          "base_uri": "https://localhost:8080/"
        },
        "id": "CuRKkqQc137V",
        "outputId": "58b72004-01f8-4734-96f8-5ff1a32cdd31"
      },
      "outputs": [
        {
          "name": "stdout",
          "output_type": "stream",
          "text": [
            "Writing max_pairwise_product_long_execints.cpp\n"
          ]
        }
      ],
      "source": [
        "%%writefile max_pairwise_product_long_execints.cpp\n",
        "#include <iostream>\n",
        "#include <vector>\n",
        "#include <algorithm>\n",
        "\n",
        "long long MaxPairwiseProduct(const std::vector<int>& numbers, long long &execints) {              //N inst exec by line executed \n",
        "    \n",
        "    long long m = 0LL;                                                       //1\n",
        "    \n",
        "    long long max_product = 0LL;                                             //1\n",
        "    execints++;\n",
        "\n",
        "\t  long long aux_product = 0LL;                                             //1\n",
        "    execints++;\n",
        "\n",
        "    int n = numbers.size();                                                  //1 \n",
        "    execints++;\n",
        "\n",
        "    execints++;                                                                         \n",
        "    for (int first = 0; first < n; ++first) {                                //1+2n  \n",
        "        execints += 2;\n",
        "\n",
        "        long long m = 0LL;\n",
        "\n",
        "        execints++;                                    \n",
        "        for (int second = first + 1; second < n; ++second) {                 //n+ (n-1)n \n",
        "            execints += 2;                                                \n",
        "\n",
        "\t\t\t      aux_product =  (long long) numbers[first] * numbers[second];    //(n-1)n/2 \n",
        "            execints++; \n",
        "\n",
        "            execints++; \n",
        "            if ( max_product < aux_product)  {                               //(n-1)n/2 \n",
        "                       \n",
        "\t\t\t\t        max_product = aux_product;                                   //[0, (n-1)n/2] \n",
        "                execints++; \n",
        "                m++;\n",
        "             }\n",
        "        }\n",
        "        if ( (first <= 10) || (n- first <= 10)) std::cout << m << \"\\n\";\n",
        "    }\n",
        "                                                                            // -------------- \n",
        "    return max_product;                                                     // 4 + 3n + [2(n-1)n, 2.5 (n-1)n] \n",
        "}\n",
        "\n",
        "int main() {                                                 //N inst exec by line executed \n",
        "    long long execints =0LL;\n",
        "\n",
        "    int n;                                                   //1\n",
        "    execints++;                                                              \n",
        "    \n",
        "    std::cin >> n;                                           //1\n",
        "    execints++;\n",
        "\n",
        "    std::vector<int> numbers(n);                             //n\n",
        "    execints += n;\n",
        "    \n",
        "    execints++;\n",
        "    for (int i = 0; i < n; ++i) {                            //1 + 2n\n",
        "        execints += 2;\n",
        "\n",
        "        std::cin >> numbers[i];\n",
        "        execints++;                                          //n\n",
        "    }\n",
        "    \n",
        "    //std::cout << MaxPairwiseProduct(numbers) << \"\\n\";      //1 + 1  + 4 + 3n + [2(n-1)n, 2.5 (n-1)n]\n",
        "\n",
        "    execints++;\n",
        "    int M = MaxPairwiseProduct(numbers,execints);\n",
        "\n",
        "    execints++;\n",
        "    std::cout <<  execints << \"\\n\";                       \n",
        "    return 0;                                                // -------------- \n",
        "}                                                            // 9 + 7n + [2(n-1)n, 2.5 (n-1)n]"
      ]
    },
    {
      "cell_type": "code",
      "execution_count": 35,
      "metadata": {
        "colab": {
          "base_uri": "https://localhost:8080/"
        },
        "id": "Kuvm1C05ly2a",
        "outputId": "f8e2f872-e7d9-4732-acb4-5ffe2e6568d1"
      },
      "outputs": [
        {
          "name": "stdout",
          "output_type": "stream",
          "text": [
            "9\n",
            "5\n",
            "4\n",
            "3\n",
            "2\n",
            "2\n",
            "2\n",
            "2\n",
            "1\n",
            "0\n",
            "289\n",
            "2\n",
            "1\n",
            "2\n",
            "0\n",
            "0\n",
            "0\n",
            "116\n",
            "199999\n",
            "100000\n",
            "66667\n",
            "50000\n",
            "40000\n",
            "33334\n",
            "28572\n",
            "25000\n",
            "22223\n",
            "20000\n",
            "18182\n",
            "2\n",
            "2\n",
            "2\n",
            "2\n",
            "2\n",
            "2\n",
            "2\n",
            "2\n",
            "1\n",
            "0\n",
            "80003672077\n"
          ]
        }
      ],
      "source": [
        "!g++ max_pairwise_product_long_execints.cpp -o max_pairwise_product_long_execints\n",
        "!./max_pairwise_product_long_execints < input1.txt\n",
        "!./max_pairwise_product_long_execints < input2.txt\n",
        "!./max_pairwise_product_long_execints < input3.txt"
      ]
    },
    {
      "cell_type": "markdown",
      "metadata": {
        "id": "L_uaamxeAHK7"
      },
      "source": [
        "The number of instructions executed by the algooirithm with a list of size $n$ is  \n",
        "\n",
        "$$T = 9 + 7n + [2(n-1)n, 2.5 (n-1)n]$$\n",
        "\n",
        "It depends on the size of the lists and  the order of the list.\n",
        "\n",
        "For the input1.txt \n",
        "```\n",
        "10\n",
        "1 2 3 4 5 6 7 8 9 10\n",
        "```\n",
        "$$T = 9 + 7(10) + 2(9)(10) +  9 + 5 + 4 + 3 + 2 + 2 + 2 + 2 + 1 + 0  = 289 $$\n",
        "\n",
        "For the input2.txt \n",
        "```\n",
        "6\n",
        "1 3 200000 9 200000 23\n",
        "```\n",
        "$$T = 9 + 7(6) + 2(5)(6)  +  2 + 1 + 2 + 0 + 0 + 0 = 116 $$\n",
        "\n",
        "\n",
        "For the input3.txt that is the worst case (n=200000 and list in incresing order)\n",
        "\n",
        "```\n",
        "200000\n",
        "1 2 3 4 5 6 7 8 9 10 ... 199998 199999 200000\n",
        "```\n",
        "\n",
        "$$\n",
        "\\begin{array}{ll}\n",
        "T &= 9 + 7(200000) + (2)(199999)(200000)  + (199999 +\n",
        "100000 + 66667 +50000 \\cdots 2 + 2 + 1)\\\\\n",
        "&= 80003672077  \\\\\n",
        "  &< 9 + 7(200000) + (2.5)(199999)(200000) \\\\\n",
        "  & = 100000900009\n",
        "\\end{array}\n",
        "  $$"
      ]
    },
    {
      "cell_type": "markdown",
      "metadata": {
        "id": "NXW7QkoBL6xH"
      },
      "source": [
        "Calculate estimated time by instruction and number of instructions by second"
      ]
    },
    {
      "cell_type": "code",
      "execution_count": 36,
      "metadata": {
        "colab": {
          "base_uri": "https://localhost:8080/"
        },
        "id": "pKqB3i7dIxnc",
        "outputId": "cec850f5-16e3-4cd6-bf9b-6f5f2fd7b076"
      },
      "outputs": [
        {
          "data": {
            "text/plain": [
              "1.5999265618308827e-09"
            ]
          },
          "execution_count": 36,
          "metadata": {},
          "output_type": "execute_result"
        }
      ],
      "source": [
        "# Estimated time by instruction\n",
        "\n",
        "128/80003672077 \n"
      ]
    },
    {
      "cell_type": "code",
      "execution_count": 37,
      "metadata": {
        "colab": {
          "base_uri": "https://localhost:8080/"
        },
        "id": "18N1ouqeMhE1",
        "outputId": "d7d4d1bf-b899-4c01-8ecb-e30da3ae6468"
      },
      "outputs": [
        {
          "data": {
            "text/plain": [
              "625028688.1015625"
            ]
          },
          "execution_count": 37,
          "metadata": {},
          "output_type": "execute_result"
        }
      ],
      "source": [
        "# Estimated number of instructions by second\n",
        "\n",
        "1/(128/80003672077) "
      ]
    },
    {
      "cell_type": "markdown",
      "metadata": {
        "id": "CQufozXLNJwO"
      },
      "source": [
        "### Efficient solution"
      ]
    },
    {
      "cell_type": "markdown",
      "metadata": {
        "id": "nLcKBwbU0QsE"
      },
      "source": [
        "Add in each line a coment with the number of intstrcution that are executed in that line"
      ]
    },
    {
      "cell_type": "code",
      "execution_count": 38,
      "metadata": {
        "id": "knls5Fh3NSt_"
      },
      "outputs": [
        {
          "name": "stdout",
          "output_type": "stream",
          "text": [
            "Writing efficient_solution.cpp\n"
          ]
        }
      ],
      "source": [
        "%%writefile efficient_solution.cpp\n",
        "#include <iostream>\n",
        "#include <vector>\n",
        "#include <algorithm>\n",
        "\n",
        "long long MaxPairwiseProduct(const std::vector<int> &numbers)\n",
        "{\n",
        "    long long max_product = 0;   //1\n",
        "    int n = numbers.size();  //1\n",
        "    int index_max_1 = -1;   //1\n",
        "    int index_max_2 = -1;   //1\n",
        "\n",
        "    for (int i = 0; i < n; ++i)     //1+2n\n",
        "    {\n",
        "        int current = numbers[i];   //1\n",
        "        if (current > numbers[index_max_1])    //1\n",
        "        {\n",
        "            index_max_1 = i;    //1\n",
        "        }\n",
        "    }\n",
        "\n",
        "    for (int i = 0; i < n; ++i)     //1+2n\n",
        "    {\n",
        "        if (i != index_max_1)\n",
        "        {\n",
        "            int current = numbers[i];   //1\n",
        "            if (current > numbers[index_max_2])   //1\n",
        "            {\n",
        "                index_max_2 = i;   //1\n",
        "            }\n",
        "        }\n",
        "    }\n",
        "    max_product = (long long)numbers[index_max_1] * numbers[index_max_2];    //1\n",
        "    return max_product;     //1+1+1+1+(1+2n)+(1+1+1)n+(1+2n)+(1+1+1)(n-1)+1=10n+4\n",
        "}\n",
        "\n",
        "int main()  //N inst exec by line executed \n",
        "{\n",
        "    int n;  //1\n",
        "    std::cin >> n;  //1\n",
        "    std::vector<int> numbers(n);    //n\n",
        "    for (int i = 0; i < n; ++i)     //1+2n\n",
        "    {\n",
        "        std::cin >> numbers[i];     //1\n",
        "    }\n",
        "\n",
        "    std::cout << MaxPairwiseProduct(numbers) << \"\\n\"; // 1 + 10n+4 + 1 = 10n + 6\n",
        "    return 0; //    (4n+3) + (10n+6) = 14n+9\n",
        "}\n"
      ]
    },
    {
      "cell_type": "markdown",
      "metadata": {
        "id": "-JCijbWxNSii"
      },
      "source": [
        "Test with inputs 1 and 2\n",
        "\n"
      ]
    },
    {
      "cell_type": "code",
      "execution_count": 43,
      "metadata": {
        "id": "TrTGAfqlNVXT"
      },
      "outputs": [
        {
          "name": "stdout",
          "output_type": "stream",
          "text": [
            "90\n",
            "40000000000\n"
          ]
        }
      ],
      "source": [
        "!g++ efficient_solution.cpp -o efficient_solution\n",
        "!./efficient_solution < input1.txt\n",
        "!./efficient_solution < input2.txt"
      ]
    },
    {
      "cell_type": "markdown",
      "metadata": {
        "id": "PRX51wADNR8b"
      },
      "source": [
        "Test and time it with input 3"
      ]
    },
    {
      "cell_type": "code",
      "execution_count": 44,
      "metadata": {
        "id": "v4z7-Is_NRt7"
      },
      "outputs": [
        {
          "name": "stdout",
          "output_type": "stream",
          "text": [
            "39999800000\n",
            "./efficient_solution < input3.txt  0.38s user 0.00s system 98% cpu 0.392 total\n"
          ]
        }
      ],
      "source": [
        "!time ./efficient_solution < input3.txt"
      ]
    },
    {
      "cell_type": "markdown",
      "metadata": {
        "id": "rpdfs0_TNZJf"
      },
      "source": [
        "20 stress tests"
      ]
    },
    {
      "cell_type": "code",
      "execution_count": 53,
      "metadata": {
        "id": "Lu4tYcKzNcTT"
      },
      "outputs": [
        {
          "name": "stdout",
          "output_type": "stream",
          "text": [
            "Overwriting efficient_solution_stress_test.cpp\n"
          ]
        }
      ],
      "source": [
        "%%writefile efficient_solution_stress_test.cpp\n",
        "#include <iostream>\n",
        "#include <cstdlib>\n",
        "#include <vector>\n",
        "using namespace std;\n",
        "\n",
        "long long MaxPairwiseProduct(const std::vector<int> &numbers)\n",
        "{\n",
        "    long long max_product = 0;\n",
        "    int n = numbers.size();\n",
        "    int index_max_1 = -1;\n",
        "    int index_max_2 = -1;\n",
        "\n",
        "    for (int i = 0; i < n; ++i)\n",
        "    {\n",
        "        int current = numbers[i];\n",
        "        if (current > numbers[index_max_1])\n",
        "        {\n",
        "            index_max_1 = i;\n",
        "        }\n",
        "    }\n",
        "\n",
        "    for (int i = 0; i < n; ++i)\n",
        "    {\n",
        "        if (i != index_max_1)\n",
        "        {\n",
        "            int current = numbers[i];\n",
        "            if (current > numbers[index_max_2])\n",
        "            {\n",
        "                index_max_2 = i;\n",
        "            }\n",
        "        }\n",
        "    }\n",
        "    max_product = (long long)numbers[index_max_1] * numbers[index_max_2];\n",
        "    return max_product;\n",
        "}\n",
        "\n",
        "void coutInput(const std::vector<int> &numbers)\n",
        "{\n",
        "    int size = numbers.size();\n",
        "    cout << size << endl;\n",
        "    for (int i = 0; i < numbers.size(); ++i)\n",
        "    {\n",
        "        cout << numbers[i] << ' ';\n",
        "    }\n",
        "    cout << endl;\n",
        "}\n",
        "\n",
        "int main()\n",
        "{\n",
        "    srand((unsigned)time(NULL));\n",
        "\n",
        "    for (int j = 0; j < 20; ++j)\n",
        "    {\n",
        "        int n = 1 + rand() % 10;\n",
        "\n",
        "        vector<int> numbers(n);\n",
        "\n",
        "        for (int i = 0; i < n; ++i)\n",
        "        {\n",
        "            int new_number = 1 + rand() % 1000;\n",
        "            numbers[i] = new_number;\n",
        "        }\n",
        "\n",
        "        coutInput(numbers);\n",
        "\n",
        "        std::cout << MaxPairwiseProduct(numbers) << endl;\n",
        "    }\n",
        "    return 0;\n",
        "}"
      ]
    },
    {
      "cell_type": "markdown",
      "metadata": {
        "id": "L8U4151JNbxk"
      },
      "source": [
        "Count executed instructions in code and verify with inputs 1,2 and 3\n"
      ]
    },
    {
      "cell_type": "code",
      "execution_count": 57,
      "metadata": {
        "id": "dh85RM8vNhFz"
      },
      "outputs": [
        {
          "name": "stdout",
          "output_type": "stream",
          "text": [
            "Overwriting efficient_solution_count_instructions.cpp\n"
          ]
        }
      ],
      "source": [
        "%%writefile efficient_solution_count_instructions.cpp\n",
        "#include <iostream>\n",
        "#include <vector>\n",
        "#include <algorithm>\n",
        "\n",
        "long long MaxPairwiseProduct(const std::vector<int> &numbers, long long &execints)\n",
        "{\n",
        "    long long max_product = 0; // 1\n",
        "    execints++;\n",
        "    int n = numbers.size(); // 1\n",
        "    execints++;\n",
        "    int index_max_1 = -1; // 1\n",
        "    execints++;\n",
        "    int index_max_2 = -1; // 1\n",
        "    execints++;\n",
        "\n",
        "    execints++;\n",
        "    for (int i = 0; i < n; ++i) // 1+2n\n",
        "    {\n",
        "        execints += 2;\n",
        "\n",
        "        execints++;\n",
        "        int current = numbers[i]; // 1\n",
        "        execints++;\n",
        "        if (current > numbers[index_max_1]) // 1\n",
        "        {\n",
        "            execints++;\n",
        "            index_max_1 = i; // 1\n",
        "        }\n",
        "    }\n",
        "\n",
        "    execints++;\n",
        "    for (int i = 0; i < n; ++i) // 1+2n\n",
        "    {\n",
        "        execints += 2;\n",
        "\n",
        "        execints++;\n",
        "        if (i != index_max_1)\n",
        "        {\n",
        "            execints++;\n",
        "            int current = numbers[i];\n",
        "            // 1\n",
        "            execints++;\n",
        "            if (current > numbers[index_max_2]) // 1\n",
        "            {\n",
        "                index_max_2 = i; // 1\n",
        "                execints++;\n",
        "            }\n",
        "        }\n",
        "    }\n",
        "\n",
        "    execints++;\n",
        "    max_product = (long long)numbers[index_max_1] * numbers[index_max_2]; // 1\n",
        "    std::cout << \"#Instructions: \" << execints << std::endl;\n",
        "    return max_product; // 1+1+1+1+(1+2n)+(1+1+1)n+(1+2n)+(1+1+1)(n-1)+1=10n+4\n",
        "}\n",
        "\n",
        "int main() // N inst exec by line executed\n",
        "{\n",
        "    long long execints = 0LL;\n",
        "\n",
        "    int n; // 1\n",
        "    execints++;\n",
        "\n",
        "    std::cin >> n; // 1\n",
        "    execints++;\n",
        "\n",
        "    std::vector<int> numbers(n); // n\n",
        "    execints += n;\n",
        "\n",
        "    execints++;\n",
        "    for (int i = 0; i < n; ++i) // 1+2n\n",
        "    {\n",
        "        execints += 2;\n",
        "\n",
        "        std::cin >> numbers[i]; // 1\n",
        "        execints++;\n",
        "    }\n",
        "\n",
        "    execints += 2;\n",
        "    std::cout << MaxPairwiseProduct(numbers, execints) << \"\\n\"; // 1 + 10n+4 + 1 = 10n + 6\n",
        "    return 0;                                                   //    (4n+3) + (10n+6) = 14n+9\n",
        "}"
      ]
    },
    {
      "cell_type": "markdown",
      "metadata": {
        "id": "K6ybgCmpNygr"
      },
      "source": [
        "Calculate estimated time by instruction and number of instructions by second"
      ]
    },
    {
      "cell_type": "code",
      "execution_count": 86,
      "metadata": {
        "id": "kwe3G1O3Nz1w"
      },
      "outputs": [
        {
          "name": "stdout",
          "output_type": "stream",
          "text": [
            "1.2854240021811615e-07\n",
            "7779534.2105263155\n"
          ]
        }
      ],
      "source": [
        "time_by_instruction = 0.38/2956223\n",
        "instructions_by_second = 1/time_by_instruction\n",
        "print(time_by_instruction)\n",
        "print(instructions_by_second)"
      ]
    },
    {
      "cell_type": "markdown",
      "metadata": {
        "id": "sc9nOLQrfTm0"
      },
      "source": [
        "### Super efficient solution\n",
        "\n",
        "Whitout storing the list in memory and whitout calling a function, add in each line a coment with the number of intstrcution that are executed in that line "
      ]
    },
    {
      "cell_type": "code",
      "execution_count": 76,
      "metadata": {
        "id": "hBLt_xBQLy8E"
      },
      "outputs": [
        {
          "name": "stdout",
          "output_type": "stream",
          "text": [
            "Overwriting super_efficient_solution.cpp\n"
          ]
        }
      ],
      "source": [
        "%%writefile super_efficient_solution.cpp\n",
        "#include <iostream>\n",
        "#include <vector>\n",
        "#include <algorithm>\n",
        "\n",
        "int main() // N inst exec by line executed\n",
        "{\n",
        "    int n;                       // 1\n",
        "    std::cin >> n;               // 1\n",
        "    int max1 = 0;\n",
        "    int max2 = 0;\n",
        "\n",
        "    for (int i = 0; i < n; ++i) // 1+2n\n",
        "    {\n",
        "        int current;\n",
        "        std::cin >> current; // 1\n",
        "        if (current > max1 || current > max2)\n",
        "        {\n",
        "            if (current > max1)\n",
        "            {\n",
        "                int t = max1;\n",
        "                max1 = current;\n",
        "                max2 = t;\n",
        "            }\n",
        "            else\n",
        "            {\n",
        "                max2 = current;\n",
        "            }\n",
        "        }\n",
        "    }\n",
        "\n",
        "    std::cout << (long long)max1 * max2 << \"\\n\";\n",
        "    return 0;\n",
        "}"
      ]
    },
    {
      "cell_type": "markdown",
      "metadata": {
        "id": "683gc3roHqzb"
      },
      "source": [
        "Test with inputs 1 and 2\n",
        "\n",
        "\n",
        " "
      ]
    },
    {
      "cell_type": "code",
      "execution_count": 77,
      "metadata": {
        "id": "b7d4LA8OIc2_"
      },
      "outputs": [
        {
          "name": "stdout",
          "output_type": "stream",
          "text": [
            "90\n",
            "40000000000\n"
          ]
        }
      ],
      "source": [
        "!g++ super_efficient_solution.cpp -o super_efficient_solution\n",
        "!./super_efficient_solution < input1.txt\n",
        "!./super_efficient_solution < input2.txt"
      ]
    },
    {
      "cell_type": "markdown",
      "metadata": {
        "id": "36Ugn1odIeJz"
      },
      "source": [
        "Test and time it with input 3"
      ]
    },
    {
      "cell_type": "code",
      "execution_count": 78,
      "metadata": {
        "id": "jDyMbCnxHqSN"
      },
      "outputs": [
        {
          "name": "stdout",
          "output_type": "stream",
          "text": [
            "39999800000\n",
            "./super_efficient_solution < input3.txt  0.37s user 0.00s system 98% cpu 0.378 total\n"
          ]
        }
      ],
      "source": [
        "!time ./super_efficient_solution < input3.txt"
      ]
    },
    {
      "cell_type": "markdown",
      "metadata": {
        "id": "bhqiKQG6fjKM"
      },
      "source": [
        "20 stress tests "
      ]
    },
    {
      "cell_type": "code",
      "execution_count": 79,
      "metadata": {
        "id": "2KsiXKhALzwm"
      },
      "outputs": [
        {
          "name": "stdout",
          "output_type": "stream",
          "text": [
            "Overwriting super_efficient_solution_stress_test.cpp\n"
          ]
        }
      ],
      "source": [
        "%%writefile super_efficient_solution_stress_test.cpp\n",
        "#include <iostream>\n",
        "#include <cstdlib>\n",
        "#include <vector>\n",
        "using namespace std;\n",
        "\n",
        "int main()\n",
        "{\n",
        "    srand((unsigned)time(NULL));\n",
        "\n",
        "    for (int j = 0; j < 20; ++j)\n",
        "    {\n",
        "        int n = 2 + rand() % 8;\n",
        "        cout << n << endl;\n",
        "\n",
        "        int max1 = 0;\n",
        "        int max2 = 0;\n",
        "\n",
        "        for (int i = 0; i < n; ++i)\n",
        "        {\n",
        "            int current = 1 + rand() % 1000;\n",
        "\n",
        "            cout << current << '\\t';\n",
        "\n",
        "            if (current > max1 || current > max2)\n",
        "            {\n",
        "                if (current > max1)\n",
        "                {\n",
        "                    int t = max1;\n",
        "                    max1 = current;\n",
        "                    max2 = t;\n",
        "                }\n",
        "                else\n",
        "                {\n",
        "                    max2 = current;\n",
        "                }\n",
        "            }\n",
        "        }\n",
        "        cout << endl;\n",
        "\n",
        "        cout << (long long)max1 * max2 << \"\\n\";\n",
        "    }\n",
        "    return 0;\n",
        "}"
      ]
    },
    {
      "cell_type": "markdown",
      "metadata": {
        "id": "fEXj8GHJH5p1"
      },
      "source": [
        "Count executed instructions in code and verify with inputs 1,2 and 3"
      ]
    },
    {
      "cell_type": "code",
      "execution_count": 81,
      "metadata": {
        "id": "LF1DHjKXIAsF"
      },
      "outputs": [
        {
          "name": "stdout",
          "output_type": "stream",
          "text": [
            "Overwriting super_efficient_solution_count_instructions.cpp\n"
          ]
        }
      ],
      "source": [
        "%%writefile super_efficient_solution_count_instructions.cpp\n",
        "#include <iostream>\n",
        "#include <vector>\n",
        "#include <algorithm>\n",
        "\n",
        "int main() // N inst exec by line executed\n",
        "{\n",
        "    long long execints = 0LL;\n",
        "\n",
        "    execints++;\n",
        "    int n; // 1\n",
        "    execints++;\n",
        "    std::cin >> n; // 1\n",
        "    execints++;\n",
        "    int max1 = 0; // 1\n",
        "    execints++;\n",
        "    int max2 = 0; // 1\n",
        "\n",
        "    execints++;\n",
        "    for (int i = 0; i < n; ++i) // 1+2n\n",
        "    {\n",
        "        execints += 2;\n",
        "\n",
        "        execints++;\n",
        "        int current; // 1\n",
        "        execints++;\n",
        "        std::cin >> current; // 1\n",
        "        execints += 2;\n",
        "        if (current > max1 || current > max2) // 2\n",
        "        {\n",
        "            execints++;\n",
        "            if (current > max1) // 1\n",
        "            {\n",
        "                execints++;\n",
        "                int t = max1; // 1\n",
        "                execints++;\n",
        "                max1 = current; // 1\n",
        "                execints++;\n",
        "                max2 = t; // 1\n",
        "            }\n",
        "            else\n",
        "            {\n",
        "                execints++;\n",
        "                max2 = current; // 1\n",
        "            }\n",
        "        }\n",
        "    }\n",
        "\n",
        "    execints += 3;\n",
        "    std::cout << (long long)max1 * max2 << \"\\n\"; // 3\n",
        "    std::cout << \"#Instructions: \" << execints << std::endl;\n",
        "    return 0; // 1 + 1 + 1 + 1 + (1 + 2n) + (1 + 1 + 2 + 1 + 1 + 1 + 1)n + 3\n",
        "    // = 10n+8\n",
        "}"
      ]
    },
    {
      "cell_type": "code",
      "execution_count": 85,
      "metadata": {},
      "outputs": [
        {
          "name": "stdout",
          "output_type": "stream",
          "text": [
            "90\n",
            "#Instructions: 108\n",
            "40000000000\n",
            "#Instructions: 60\n"
          ]
        }
      ],
      "source": [
        "!g++ super_efficient_solution_count_instructions.cpp -o super_efficient_solution_count_instructions\n",
        "!./super_efficient_solution_count_instructions < input1.txt\n",
        "!./super_efficient_solution_count_instructions < input2.txt"
      ]
    },
    {
      "cell_type": "code",
      "execution_count": 87,
      "metadata": {},
      "outputs": [
        {
          "name": "stdout",
          "output_type": "stream",
          "text": [
            "39999800000\n",
            "#Instructions: 2000008\n",
            "./super_efficient_solution_count_instructions < input3.txt  0.37s user 0.00s system 98% cpu 0.380 total\n"
          ]
        }
      ],
      "source": [
        "!time ./super_efficient_solution_count_instructions < input3.txt"
      ]
    },
    {
      "cell_type": "markdown",
      "metadata": {
        "id": "yae7sSm2IG9U"
      },
      "source": [
        "Calculate estimated time by instruction and number of instructions by second"
      ]
    },
    {
      "cell_type": "code",
      "execution_count": 88,
      "metadata": {
        "id": "suouY7BYL2dz"
      },
      "outputs": [
        {
          "name": "stdout",
          "output_type": "stream",
          "text": [
            "1.8499926000295997e-07\n",
            "5405427.027027028\n"
          ]
        }
      ],
      "source": [
        "time_by_instruction = 0.37/2000008\n",
        "instructions_by_second = 1/time_by_instruction\n",
        "print(time_by_instruction)\n",
        "print(instructions_by_second)"
      ]
    },
    {
      "cell_type": "markdown",
      "metadata": {
        "id": "LkVxxlhl9H98"
      },
      "source": [
        "# Codeforces problem https://codeforces.com/contest/1619/problem/A \n",
        "\n",
        "Solve the problem in Colab, submit the solution to Codeforces and add a screenshoot of the submission."
      ]
    },
    {
      "cell_type": "code",
      "execution_count": 89,
      "metadata": {},
      "outputs": [
        {
          "name": "stdout",
          "output_type": "stream",
          "text": [
            "Overwriting codeforcesProblem.cpp\n"
          ]
        }
      ],
      "source": [
        "%%writefile codeforcesProblem.cpp\n",
        "#include <iostream>\n",
        "#include <string>\n",
        "using namespace std;\n",
        "\n",
        "bool checkSquareWord(string &s)\n",
        "{\n",
        "    int length = s.length();\n",
        "    int halfLength = length / 2;\n",
        "    if (length % 2 == 1)\n",
        "    {\n",
        "        return false;\n",
        "    }\n",
        "    for (int i = 0; i < halfLength; i++)\n",
        "    {\n",
        "        if (s[i] != s[i + halfLength])\n",
        "        {\n",
        "            return false;\n",
        "        }\n",
        "    }\n",
        "    return true;\n",
        "}\n",
        "\n",
        "int main()\n",
        "{\n",
        "    int n = 0;\n",
        "    cin >> n;\n",
        "\n",
        "    for (int i = 0; i < n; ++i)\n",
        "    {\n",
        "        string s;\n",
        "        cin >> s;\n",
        "        if (checkSquareWord(s))\n",
        "        {\n",
        "            cout << \"YES\" << endl;\n",
        "        }\n",
        "        else\n",
        "        {\n",
        "            cout << \"NO\" << endl;\n",
        "        }\n",
        "    }\n",
        "\n",
        "    return 0;\n",
        "}"
      ]
    },
    {
      "cell_type": "code",
      "execution_count": 90,
      "metadata": {},
      "outputs": [
        {
          "name": "stdout",
          "output_type": "stream",
          "text": [
            "Writing inputCodeforces.txt\n"
          ]
        }
      ],
      "source": [
        "%%writefile inputCodeforces.txt\n",
        "10\n",
        "a\n",
        "aa\n",
        "aaa\n",
        "aaaa\n",
        "abab\n",
        "abcabc\n",
        "abacaba\n",
        "xxyy\n",
        "xyyx\n",
        "xyxy"
      ]
    },
    {
      "cell_type": "code",
      "execution_count": 91,
      "metadata": {},
      "outputs": [
        {
          "name": "stdout",
          "output_type": "stream",
          "text": [
            "NO\n",
            "YES\n",
            "NO\n",
            "YES\n",
            "YES\n",
            "YES\n",
            "NO\n",
            "NO\n",
            "NO\n",
            "YES\n"
          ]
        }
      ],
      "source": [
        "!g++ codeforcesProblem.cpp -o codeforcesProblem\n",
        "!./codeforcesProblem < inputCodeforces.txt"
      ]
    },
    {
      "attachments": {},
      "cell_type": "markdown",
      "metadata": {},
      "source": [
        "<img src='./codeforces.png'/>"
      ]
    }
  ],
  "metadata": {
    "colab": {
      "authorship_tag": "ABX9TyNouO43O7BnYePQWID91EMl",
      "collapsed_sections": [],
      "name": "gjhernandezpAlgorithmicToolboxWeek1.ipynb",
      "provenance": []
    },
    "kernelspec": {
      "display_name": "Python 3",
      "name": "python3"
    },
    "language_info": {
      "name": "python",
      "version": "3.8.16"
    }
  },
  "nbformat": 4,
  "nbformat_minor": 0
}
