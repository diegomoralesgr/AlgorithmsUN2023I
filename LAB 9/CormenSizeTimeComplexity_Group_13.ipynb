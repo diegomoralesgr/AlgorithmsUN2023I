{
  "nbformat": 4,
  "nbformat_minor": 0,
  "metadata": {
    "colab": {
      "provenance": []
    },
    "kernelspec": {
      "name": "python3",
      "display_name": "Python 3"
    },
    "language_info": {
      "name": "python"
    }
  },
  "cells": [
    {
      "cell_type": "code",
      "source": [
        "import math\n",
        "def f(x,t):\n",
        "  if (t==0):\n",
        "    return x*math.log2(x)\n",
        "  elif (t==1):\n",
        "    return math.factorial(int(x))\n",
        "  else:\n",
        "    return int(x)**int(x)\n",
        "\n",
        "def find(t,v):\n",
        "  if (t==0):\n",
        "    r = v\n",
        "  else:\n",
        "    r = 100\n",
        "  l = 1\n",
        "  \n",
        "  while True:\n",
        "    m = int((l+r)/2)\n",
        "    if ((f(m+1,t) > v) and (f(m,t) <= v) ) or (l == m) or  (r == m):\n",
        "      return int(m)   \n",
        "    elif f(m,t) < v:\n",
        "      l = m\n",
        "    else: \n",
        "      r = m"
      ],
      "metadata": {
        "id": "h2jnpR9GvrF_"
      },
      "execution_count": 1,
      "outputs": []
    },
    {
      "cell_type": "markdown",
      "source": [
        "$\\bf{ Time\\ Complexity\\ \\lg^2(n) }$"
      ],
      "metadata": {
        "id": "6AJoz9TbLOF5"
      }
    },
    {
      "cell_type": "code",
      "source": [
        "print(\"Second: 2^{\",round(math.sqrt(10**9)),\"}\")\n",
        "print(\"Minute: 2^{\",round(math.sqrt(60*10**9)),\"}\")\n",
        "print(\"Hour: 2^{\",round(math.sqrt(60*60*10**9)),\"}\")\n",
        "print(\"Day: 2^{\",round(math.sqrt(24*60*60*10**9)),\"}\")\n",
        "print(\"Year: 2^{\",round(math.sqrt(365*24*60*60*10**9)),\"}\")\n",
        "print(\"Century: 2^{\",round(math.sqrt(100*365*24*60*60*10**9)),\"}\")\n",
        "print(\"Mileniun: 2^{\",round(math.sqrt(1000*100*365*24*60*60*10**9)),\"}\")"
      ],
      "metadata": {
        "colab": {
          "base_uri": "https://localhost:8080/"
        },
        "id": "inizxxiTLMIF",
        "outputId": "85a8407f-9f6d-4024-ab16-624b555e7059"
      },
      "execution_count": 2,
      "outputs": [
        {
          "output_type": "stream",
          "name": "stdout",
          "text": [
            "Second: 2^{ 31623 }\n",
            "Minute: 2^{ 244949 }\n",
            "Hour: 2^{ 1897367 }\n",
            "Day: 2^{ 9295160 }\n",
            "Year: 2^{ 177583783 }\n",
            "Century: 2^{ 1775837830 }\n",
            "Mileniun: 2^{ 56156922993 }\n"
          ]
        }
      ]
    },
    {
      "cell_type": "markdown",
      "source": [
        "$\\bf{ Time\\ Complexity\\ \\sqrt{n} }$"
      ],
      "metadata": {
        "id": "3ABVg0EaLT8N"
      }
    },
    {
      "cell_type": "code",
      "source": [
        "print(\"Second :{:.8E}\".format(math.pow(10**9,2)))\n",
        "print(\"Minute  :{:.8E}\".format(math.pow(60*10**9,2)))\n",
        "print(\"Hour :{:.8E}\".format(math.pow(60*60*10**9,2)))\n",
        "print(\"Day :{:.8E}\".format(math.pow(24*60*60*10**9,2)))\n",
        "print(\"Year :{:.8E}\".format(math.pow(365*24*60*60*10**9,2)))\n",
        "print(\"Century :{:.8E}\".format(math.pow(100*365*24*60*60*10**9,2)))\n",
        "print(\"Mileniun  :{:.8E}\".format(math.pow(1000*100*365*24*60*60*10**9,2)))"
      ],
      "metadata": {
        "colab": {
          "base_uri": "https://localhost:8080/"
        },
        "id": "IesOk8OnLVQg",
        "outputId": "370f038c-716e-4104-93a3-66d185102a68"
      },
      "execution_count": 3,
      "outputs": [
        {
          "output_type": "stream",
          "name": "stdout",
          "text": [
            "Second :1.00000000E+18\n",
            "Minute  :3.60000000E+21\n",
            "Hour :1.29600000E+25\n",
            "Day :7.46496000E+27\n",
            "Year :9.94519296E+32\n",
            "Century :9.94519296E+36\n",
            "Mileniun  :9.94519296E+42\n"
          ]
        }
      ]
    },
    {
      "cell_type": "markdown",
      "source": [
        "$\\bf{ Time\\ Complexity\\ n }$"
      ],
      "metadata": {
        "id": "y9JDl7O1OUCx"
      }
    },
    {
      "cell_type": "code",
      "source": [
        "print(\"Second: {:.8E}\".format(10**9))\n",
        "print(\"Minute: {:.8E}\".format(60*10**9))\n",
        "print(\"Hour: {:.8E}\".format(60*60*10**9))\n",
        "print(\"Day: {:.8E}\".format(24*60*60*10**9))\n",
        "print(\"Year: {:.8E}\".format(365*24*60*60*10**9))\n",
        "print(\"Century: {:.8E}\".format(100*365*24*60*60*10**9))\n",
        "print(\"Mileniun: {:.8E}\".format(1000*100*365*24*60*60*10**9))"
      ],
      "metadata": {
        "colab": {
          "base_uri": "https://localhost:8080/"
        },
        "id": "welB2M_GOUgK",
        "outputId": "990d5338-14a0-401f-fc98-7c0d7d940392"
      },
      "execution_count": 4,
      "outputs": [
        {
          "output_type": "stream",
          "name": "stdout",
          "text": [
            "Second: 1.00000000E+09\n",
            "Minute: 6.00000000E+10\n",
            "Hour: 3.60000000E+12\n",
            "Day: 8.64000000E+13\n",
            "Year: 3.15360000E+16\n",
            "Century: 3.15360000E+18\n",
            "Mileniun: 3.15360000E+21\n"
          ]
        }
      ]
    },
    {
      "cell_type": "markdown",
      "source": [
        "$\\bf{ Time\\ Complexity\\ n\\lg{n} }$"
      ],
      "metadata": {
        "id": "LN1SpbUaOU8I"
      }
    },
    {
      "cell_type": "code",
      "source": [
        "print(\"Second: {:.8E}\".format(find(0,10**9 )))\n",
        "print(\"Minute:  {:.8E}\".format(find(0,60*10**9 )))\n",
        "print(\"Hour: {:.8E}\".format(find(0,60*60*10**9 )))\n",
        "print(\"Day: {:.8E}\".format(find(0,24*60*60*10**9 )) )\n",
        "print(\"Year: {:.8E}\".format(find(0,365*24*60*60*10**9 )) )\n",
        "print(\"Century: {:.8E}\".format(find(0,100*365*24*60*60*10**9 )) )\n",
        "print(\"Mileniun: {:.8E}\".format(find(0,1000*100*365*24*60*60*10**9 )) )"
      ],
      "metadata": {
        "colab": {
          "base_uri": "https://localhost:8080/"
        },
        "id": "9_C-vl3_OVQQ",
        "outputId": "8eec2a93-9ba7-45de-d50a-8ea7913495ce"
      },
      "execution_count": 5,
      "outputs": [
        {
          "output_type": "stream",
          "name": "stdout",
          "text": [
            "Second: 3.96200770E+07\n",
            "Minute:  1.94447045E+09\n",
            "Hour: 9.85747745E+10\n",
            "Day: 2.11037274E+12\n",
            "Year: 6.41136862E+14\n",
            "Century: 5.66650934E+16\n",
            "Mileniun: 4.82300896E+19\n"
          ]
        }
      ]
    },
    {
      "cell_type": "markdown",
      "source": [
        "$\\bf{ Time\\ Complexity\\ n^2}$"
      ],
      "metadata": {
        "id": "Hc0lGLRbOVgL"
      }
    },
    {
      "cell_type": "code",
      "source": [
        "print(\"Second: \",round(math.sqrt(10**9 )))\n",
        "print(\"Minute: \",round(math.sqrt(60*10**9 )))\n",
        "print(\"Hour: \",round(math.sqrt(60*60*10**9 )))\n",
        "print(\"Day: \",round(math.sqrt(24*60*60*10**9 )))\n",
        "print(\"Year: \",round(math.sqrt(365*24*60*60*10**9 )))\n",
        "print(\"Century: \",round(math.sqrt(100*365*24*60*60*10**9 )))\n",
        "print(\"Mileniun: \",round(math.sqrt(1000*100*365*24*60*60*10**9 )))"
      ],
      "metadata": {
        "colab": {
          "base_uri": "https://localhost:8080/"
        },
        "id": "yd2IapGaOV4D",
        "outputId": "c44316c7-ba80-470f-acd1-0850a6c621d4"
      },
      "execution_count": 6,
      "outputs": [
        {
          "output_type": "stream",
          "name": "stdout",
          "text": [
            "Second:  31623\n",
            "Minute:  244949\n",
            "Hour:  1897367\n",
            "Day:  9295160\n",
            "Year:  177583783\n",
            "Century:  1775837830\n",
            "Mileniun:  56156922993\n"
          ]
        }
      ]
    },
    {
      "cell_type": "markdown",
      "source": [
        "$\\bf{ Time\\ Complexity\\ n^3 }$"
      ],
      "metadata": {
        "id": "rsUhFoizOWKu"
      }
    },
    {
      "cell_type": "code",
      "source": [
        "print(\"Second: \",round(math.pow(10**9 ,1/3)))\n",
        "print(\"Minute:  \",round(math.pow(60*10**9 ,1/3)))\n",
        "print(\"Hour: \",round(math.pow(60*60*10**9 ,1/3)))\n",
        "print(\"Day: \",round(math.pow(24*60*60*10**9,1/3)))\n",
        "print(\"Year: \",round(math.pow(365*24*60*60*10**9 ,1/3)))\n",
        "print(\"Century: \",round(math.pow(100*365*24*60*60*10**9 ,1/3)))\n",
        "print(\"Mileniun: \",round(math.pow(1000*100*365*24*60*60*10**9 ,1/3)))"
      ],
      "metadata": {
        "colab": {
          "base_uri": "https://localhost:8080/"
        },
        "id": "jIYFMS0IOWhN",
        "outputId": "dd7bee5a-378e-4105-adb1-ae4bba275032"
      },
      "execution_count": 7,
      "outputs": [
        {
          "output_type": "stream",
          "name": "stdout",
          "text": [
            "Second:  1000\n",
            "Minute:   3915\n",
            "Hour:  15326\n",
            "Day:  44208\n",
            "Year:  315938\n",
            "Century:  1466455\n",
            "Mileniun:  14664554\n"
          ]
        }
      ]
    },
    {
      "cell_type": "markdown",
      "source": [
        "$\\bf{ Time\\ Complexity\\ n^4 }$"
      ],
      "metadata": {
        "id": "krLWIXGZQgqp"
      }
    },
    {
      "cell_type": "code",
      "source": [
        "print(\"Second: \",round(math.pow(10**9 ,1/4)))\n",
        "print(\"Minute: \",round(math.pow(60*10**9 ,1/4)))\n",
        "print(\"Hour: \",round(math.pow(60*60*10**9 ,1/4)))\n",
        "print(\"Day: \",round(math.pow(24*60*60*10**9 ,1/4)))\n",
        "print(\"Year: \",round(math.pow(365*24*60*60*10**9 ,1/4)))\n",
        "print(\"Century: \",round(math.pow(100*365*24*60*60*10**9 ,1/4)))\n",
        "print(\"Mileniun: \",round(math.pow(1000*100*365*24*60*60*10**9 ,1/4)))"
      ],
      "metadata": {
        "colab": {
          "base_uri": "https://localhost:8080/"
        },
        "id": "BhYLl5iYQg6n",
        "outputId": "98c6bc54-47ae-40c5-eea9-e78ee575e708"
      },
      "execution_count": 8,
      "outputs": [
        {
          "output_type": "stream",
          "name": "stdout",
          "text": [
            "Second:  178\n",
            "Minute:  495\n",
            "Hour:  1377\n",
            "Day:  3049\n",
            "Year:  13326\n",
            "Century:  42141\n",
            "Mileniun:  236975\n"
          ]
        }
      ]
    },
    {
      "cell_type": "markdown",
      "source": [
        "$\\bf{ Time\\ Complexity\\ 2^n }$"
      ],
      "metadata": {
        "id": "XGcjKrLFQh_7"
      }
    },
    {
      "cell_type": "code",
      "source": [
        "print(\"Second: \",int(math.log2(10**9 )))\n",
        "print(\"Minute: \",int(math.log2(60*10**9 )))\n",
        "print(\"Hour: \",int(math.log2(60*60*10**9 )))\n",
        "print(\"Day: \",int(math.log2(24*60*60*10**9 )))\n",
        "print(\"Year: \",int(math.log2(365*24*60*60*10**9 )))\n",
        "print(\"Century: \",int(math.log2(100*365*24*60*60*10**9 )))\n",
        "print(\"Mileniun: \",int(math.log2(1000*100*365*24*60*60*10**9 )))"
      ],
      "metadata": {
        "colab": {
          "base_uri": "https://localhost:8080/"
        },
        "id": "XoCrqjZHQjif",
        "outputId": "575d86f9-fcf7-42fe-fc59-f197d3b00b20"
      },
      "execution_count": 9,
      "outputs": [
        {
          "output_type": "stream",
          "name": "stdout",
          "text": [
            "Second:  29\n",
            "Minute:  35\n",
            "Hour:  41\n",
            "Day:  46\n",
            "Year:  54\n",
            "Century:  61\n",
            "Mileniun:  71\n"
          ]
        }
      ]
    },
    {
      "cell_type": "markdown",
      "source": [
        "$\\bf{ Time\\ Complexity\\ n! }$"
      ],
      "metadata": {
        "id": "fvoxB2uMQj20"
      }
    },
    {
      "cell_type": "code",
      "source": [
        "print(\"Second: \", int(find(1,10**9 )))\n",
        "print(\"Minute:  \",int(find(1,60*10**9 )))\n",
        "print(\"Hour: \",int(find(1,60*60*10**9 )))\n",
        "print(\"Day: \",int(find(1,24*60*60*10**9 )))\n",
        "print(\"Year: \",int(find(1,365*24*60*60*10**9 )))\n",
        "print(\"Century: \",int(find(1,100*365*24*60*60*10**9 )))\n",
        "print(\"Mileniun: \",int(find(1,1000*100*365*24*60*60*10**9 )))"
      ],
      "metadata": {
        "colab": {
          "base_uri": "https://localhost:8080/"
        },
        "id": "LYEH-T2zQl3r",
        "outputId": "fadb32de-af1f-4c46-988a-800081d035cd"
      },
      "execution_count": 10,
      "outputs": [
        {
          "output_type": "stream",
          "name": "stdout",
          "text": [
            "Second:  12\n",
            "Minute:   13\n",
            "Hour:  15\n",
            "Day:  16\n",
            "Year:  18\n",
            "Century:  20\n",
            "Mileniun:  22\n"
          ]
        }
      ]
    },
    {
      "cell_type": "markdown",
      "source": [
        "$\\bf{ Time\\ Complexity\\ n^n }$"
      ],
      "metadata": {
        "id": "pp2QKfGrQm8Z"
      }
    },
    {
      "cell_type": "code",
      "source": [
        "print(\"Second: \", find(2,10**9 ))\n",
        "print(\"Minute: \",find(2,60*10**9 ))\n",
        "print(\"Hour: \",find(2,(60*60)*10**9 ))\n",
        "print(\"Day: \",find(2,(24*60*60)*10**9 ))\n",
        "print(\"Year: \",find(2,(365*24*60*60)*10**9 ))\n",
        "print(\"Century: \",find(2,(100*365*24*60*60)*10**9 ))\n",
        "print(\"Mileniun: \",find(2,(1000*100*365*24*60*60)*10**9 ))"
      ],
      "metadata": {
        "colab": {
          "base_uri": "https://localhost:8080/"
        },
        "id": "RCVawCQbQndX",
        "outputId": "5ada52f3-3470-4854-b129-0873fba364c6"
      },
      "execution_count": 11,
      "outputs": [
        {
          "output_type": "stream",
          "name": "stdout",
          "text": [
            "Second:  9\n",
            "Minute:  10\n",
            "Hour:  11\n",
            "Day:  12\n",
            "Year:  14\n",
            "Century:  15\n",
            "Mileniun:  17\n"
          ]
        }
      ]
    },
    {
      "cell_type": "markdown",
      "metadata": {
        "id": "kwpTH36ZIyQJ"
      },
      "source": [
        "# 3. (1 nanosecond by instruction)\n",
        "\n",
        "Asuuming that you can execute a 1000 million instructions $10^9$ every second, i.e. each instrcution takes 1  nanosecond, 1 $\\eta s  = 10^{-9} s$. If you have algorithms take $\\bf{ Time\\ Complexity}$ steps to solve a problem of size $n$ as specified in column one. What is the size of the largest problem that you can solve in the time specified in row one?\n",
        "$$\n",
        "\\begin{array}{|c|c|c|c|c|c|c|c|} \n",
        " \\hline\n",
        " \\bf{ Time\\ Complexity} & Second  & Minute  & Hour & Day & Year & Century & Mileniun  \\\\ \n",
        "  \\hline\\\\ \n",
        "\\lg(n) &   2^{10^{9} }  &  2^{6 \\times 10^{10} } & 2^{3.6 \\times 10^{12}} &  2^{8.64 \\times 10^{13}}& 2^{3.1536 \\times 10^{16}} & 2^{3.1536 \\times 10^{18}} & 2^{3.1536 \\times 10^{21}} \\\\ \n",
        "   \\hline\\\\ \n",
        "\\lg^2(n) &   2^{10^{(9/2)}}  & 2^{10^5 \\times\\sqrt6}  & 2^{10^5 \\times\\sqrt6} & 2^{ 10^{13/2}\\times\\sqrt{8.64}  } & 2^{ 10^8\\times\\sqrt{3.1536} } & 2^{ 10^9\\times\\sqrt{3.1536} } &  2^{ 10^{10}\\times\\sqrt{31.536} } \\\\ \n",
        "   \\hline\\\\ \n",
        "\\sqrt{n} &  10^{18}  & 3.6 \\times10^{21}  & 1.296 \\times10^{25} & 7.15716 \\times10^{27}& 9.94519296 \\times10^{32} & 9.94519296  \\times10^{36} & 9.94519296 \\times10^{42}\\\\ \n",
        " \\hline\n",
        " n & 10^{9}    & 6 \\times 10^{10}   & 3.6 \\times 10^{12} & 8.64 \\times 10^{13} & 3.1536 \\times 10^{16} & 3.1536 \\times 10^{18} &  3.1536 \\times 10^{21}\\\\ \n",
        " \\hline\n",
        " n\\lg(n) &  39620077  & 1944470450  &  98574774544  & 2110372739876&  641136862352841 & 56665093434063120 &  48230089612197773312 \\\\ \n",
        " \\hline\n",
        " n^2 &  31623  & 244949  & 1897367 & 9295160 & 177583783 & 1775837830 &  56156922993 \\\\ \n",
        " \\hline\n",
        "  n^3 &  215 &  843 & 3302 &  9524  &  68067 & 315938 & 3159382 \\\\ \n",
        " \\hline\n",
        "  n^4 &  178  &  495  & 1377 & 3049 & 13326 & 42141  & 236975 \\\\ \n",
        " \\hline\n",
        "  2^n &  29  &  35 & 41 & 46 & 54 & 61 & 71 \\\\ \n",
        " \\hline\n",
        " n! &  12  & 13 &  15 & 16 & 18 & 20  &  22\\\\ \n",
        " \\hline\n",
        " n^n &  9  &  10 & 11 & 12 & 14 & 15 & 17 \\\\ \n",
        " \\hline\n",
        "\\end{array}\n",
        "$$"
      ]
    }
  ]
}